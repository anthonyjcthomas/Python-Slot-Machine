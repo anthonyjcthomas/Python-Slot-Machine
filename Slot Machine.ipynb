{
 "cells": [
  {
   "cell_type": "code",
   "execution_count": 28,
   "metadata": {},
   "outputs": [],
   "source": [
    "#imported libraries \n",
    "import random\n"
   ]
  },
  {
   "cell_type": "code",
   "execution_count": 2,
   "metadata": {},
   "outputs": [],
   "source": [
    "#Global Constants:\n",
    "MAX_LINES = 3\n",
    "MAX_BET = 5000\n",
    "MIN_BET = 50\n",
    "ROWS = 3\n",
    "COLS = 3\n",
    "\n"
   ]
  },
  {
   "cell_type": "code",
   "execution_count": 3,
   "metadata": {},
   "outputs": [],
   "source": [
    "#Count and Value of each letter in the slot machine.\n",
    "symbol_count = { \n",
    "    \"A\": 2,\n",
    "    \"B\": 4,\n",
    "    \"C\": 6,\n",
    "    \"D\": 8\n",
    "\n",
    "}\n",
    "\n",
    "symbol_value = { \n",
    "    \"A\": 5,\n",
    "    \"B\": 4,\n",
    "    \"C\": 3,\n",
    "    \"D\": 2\n",
    "\n",
    "}"
   ]
  },
  {
   "cell_type": "code",
   "execution_count": 4,
   "metadata": {},
   "outputs": [],
   "source": [
    "#Function that check if/how much you are winning.\n",
    "def check_winnings(columns, lines, bet, values):\n",
    "    winning_lines = []\n",
    "    winnings = 0\n",
    "    for line in range(lines):\n",
    "        symbol = columns[0][line]\n",
    "        for column in columns:\n",
    "            symbol_to_check = column[line]\n",
    "            if symbol != symbol_to_check:\n",
    "                break\n",
    "        else: \n",
    "            winnings += values[symbol] * bet\n",
    "            winning_lines.append(line + 1)\n",
    "\n",
    "    return winnings, winning_lines\n",
    "\n"
   ]
  },
  {
   "cell_type": "code",
   "execution_count": 5,
   "metadata": {},
   "outputs": [],
   "source": [
    "#Functions that builds the 3x3 slot machine.\n",
    "def get_slot_machine_spin(rows, cols, symbols):\n",
    "    all_symbols = []\n",
    "    for symbol, symbol_count in symbols.items():\n",
    "        for _ in range(symbol_count):\n",
    "            all_symbols.append(symbol)\n",
    "     \n",
    "   \n",
    "    columns = []\n",
    "    for _ in range(cols):\n",
    "        column = []\n",
    "        current_symbols = all_symbols[:]\n",
    "        for _ in range(rows):\n",
    "            value = random.choice(current_symbols)\n",
    "            current_symbols.remove(value)\n",
    "            column.append(value)\n",
    "        \n",
    "        columns.append(column)\n",
    "    return columns\n",
    "   \n",
    "    return columns\n",
    "def print_slot_machines(columns):\n",
    "    for row in range(len(columns[0])):\n",
    "        for i, column in enumerate(columns):\n",
    "            if i != len(columns) - 1:\n",
    "                print(column[row], end=\" | \")\n",
    "            else:\n",
    "                print(column[row], end=\"\")\n",
    "        print()\n",
    "            \n",
    "\n"
   ]
  },
  {
   "cell_type": "code",
   "execution_count": 6,
   "metadata": {},
   "outputs": [],
   "source": [
    "#Function to retrieve the users deposit.\n",
    "def deposit():\n",
    "    while True:\n",
    "        amount = input(\"How much money would you like to deposit? (If none desposit $0)\")\n",
    "        if amount.isdigit():\n",
    "            amount = int(amount)\n",
    "            if amount >= 0:\n",
    "                break\n",
    "            else:\n",
    "                print(\"Please enter a number.\")\n",
    "        else:\n",
    "            print(\"Please enter a number.\")\n",
    "    return amount\n",
    "\n",
    "\n",
    "\n",
    "        \n"
   ]
  },
  {
   "cell_type": "code",
   "execution_count": 7,
   "metadata": {},
   "outputs": [],
   "source": [
    "#Function that asks how many lines of the slot machine the user wants to bet on.\n",
    "def get_number_of_lines():\n",
    "    while True:\n",
    "        lines = input(\"Enter the number of lines to bet on (1-\" + str(MAX_LINES) + \")? \")\n",
    "        if  lines .isdigit():\n",
    "            lines  = int( lines )\n",
    "            if  1 <= lines <= MAX_LINES:\n",
    "                break\n",
    "            else:\n",
    "                print(\"Enter a valid number of lines.\")\n",
    "        else:\n",
    "            print(\"Please enter a number.\")\n",
    "    return lines\n"
   ]
  },
  {
   "cell_type": "code",
   "execution_count": 8,
   "metadata": {},
   "outputs": [],
   "source": [
    "#Function that asks how much money the user wants to bet on each line.\n",
    "def get_bet():\n",
    "    while True:\n",
    "        bet = input(\"How much money would you like to bet on each line?\")\n",
    "        if bet.isdigit():\n",
    "            bet = int(bet)\n",
    "            if MIN_BET <= bet <= MAX_BET:\n",
    "                break\n",
    "            else:\n",
    "                print(\"Amount must be between ${MIN_BET} - ${MAX_BET}.\")\n",
    "        else:\n",
    "            print(\"Please enter a number.\")\n",
    "    return bet\n",
    "    "
   ]
  },
  {
   "cell_type": "code",
   "execution_count": 25,
   "metadata": {},
   "outputs": [],
   "source": [
    "#Function that is a product of the previous functions and rules.\n",
    "def spin(balance):\n",
    "    lines = get_number_of_lines()\n",
    "    while True:\n",
    "        bet = get_bet()\n",
    "        total_bet = bet * lines\n",
    "\n",
    "        if total_bet > balance:\n",
    "            print(f\"Insufficient Funds. Your current balance is ${balance} but your total bet was ${total_bet}. Deposit more money.\" )\n",
    "            return\n",
    "        else:\n",
    "            break\n",
    "\n",
    "    print(\n",
    "        f\"You are betting ${bet} on {lines} lines. Total bet is equal to: ${total_bet}\")\n",
    "\n",
    "    slots = get_slot_machine_spin(ROWS, COLS, symbol_count)\n",
    "    print_slot_machines(slots)\n",
    "    winnings, winning_lines = check_winnings(slots, lines, bet, symbol_value)\n",
    "    print(f\"You won ${winnings}.\")\n",
    "    print(f\"You won on lines:\", *winning_lines)\n",
    "    return winnings - total_bet\n"
   ]
  },
  {
   "cell_type": "code",
   "execution_count": 29,
   "metadata": {},
   "outputs": [
    {
     "name": "stdout",
     "output_type": "stream",
     "text": [
      "Current balance is $4000\n",
      "You are betting $300 on 3 lines. Total bet is equal to: $900\n",
      "B | D | B\n",
      "C | D | D\n",
      "D | D | B\n",
      "You won $0.\n",
      "You won on lines:\n",
      "Current balance is $3100\n",
      "You are betting $100 on 2 lines. Total bet is equal to: $200\n",
      "D | C | D\n",
      "C | D | C\n",
      "B | C | C\n",
      "You won $0.\n",
      "You won on lines:\n",
      "Current balance is $2900\n",
      "You are betting $50 on 2 lines. Total bet is equal to: $100\n",
      "D | D | C\n",
      "D | D | C\n",
      "A | B | C\n",
      "You won $0.\n",
      "You won on lines:\n",
      "Current balance is $2800\n",
      "You left with $2800\n"
     ]
    }
   ],
   "source": [
    "#Function that allows the user to keep playing and exit when they wish or run out of funds, and tell them their final balance.\n",
    "def main():\n",
    "    balance = deposit()\n",
    "    while True:\n",
    "        print(f\"Current balance is ${balance}\")\n",
    "        answer = input(\"Press enter to play (q to quit).\")\n",
    "        if answer == \"q\":\n",
    "            break\n",
    "        balance += spin(balance)\n",
    "\n",
    "    print(f\"You left with ${balance}\")\n",
    "\n",
    "\n",
    "main()\n",
    "    \n"
   ]
  },
  {
   "cell_type": "code",
   "execution_count": null,
   "metadata": {},
   "outputs": [],
   "source": []
  }
 ],
 "metadata": {
  "kernelspec": {
   "display_name": "Python 3.10.5 64-bit",
   "language": "python",
   "name": "python3"
  },
  "language_info": {
   "codemirror_mode": {
    "name": "ipython",
    "version": 3
   },
   "file_extension": ".py",
   "mimetype": "text/x-python",
   "name": "python",
   "nbconvert_exporter": "python",
   "pygments_lexer": "ipython3",
   "version": "3.10.5"
  },
  "orig_nbformat": 4,
  "vscode": {
   "interpreter": {
    "hash": "3f674cce88d736ed0af4f91f986332152988e4d080f9e8a754291934a46a3de6"
   }
  }
 },
 "nbformat": 4,
 "nbformat_minor": 2
}
